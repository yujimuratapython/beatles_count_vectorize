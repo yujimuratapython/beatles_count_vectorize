{
  "nbformat": 4,
  "nbformat_minor": 0,
  "metadata": {
    "colab": {
      "name": "beatles_count_vectorize.ipynb",
      "provenance": [],
      "collapsed_sections": []
    },
    "kernelspec": {
      "name": "python3",
      "display_name": "Python 3"
    },
    "language_info": {
      "name": "python"
    }
  },
  "cells": [
    {
      "cell_type": "code",
      "metadata": {
        "colab": {
          "base_uri": "https://localhost:8080/"
        },
        "id": "GXR02rqWcWsN",
        "outputId": "6e7b2ad7-31ee-4e6c-8dc6-e3f486d4b942"
      },
      "source": [
        "!dir"
      ],
      "execution_count": 8,
      "outputs": [
        {
          "output_type": "stream",
          "name": "stdout",
          "text": [
            "beatles  beatles.csv  sample_data\n"
          ]
        }
      ]
    },
    {
      "cell_type": "code",
      "metadata": {
        "colab": {
          "base_uri": "https://localhost:8080/"
        },
        "id": "4FExNeOKcQv7",
        "outputId": "7e752c03-cfe6-441d-bcc3-d2279f201026"
      },
      "source": [
        "from sklearn.feature_extraction.text import CountVectorizer\n",
        "import glob\n",
        "import pandas as pd\n",
        "\n",
        "v=CountVectorizer(binary=False)\n",
        "docs=[]\n",
        "TARGET_DIR=\"./beatles\"\n",
        "\n",
        "for f in glob.glob(TARGET_DIR + \"/**\", recursive=True):\n",
        "    print(\"f=\",f)\n",
        "    if len(f)>10:\n",
        "        song=open(f,encoding=\"utf-8\").read()\n",
        "        docs.append(song)\n",
        "\n",
        "stop_words=['an','at','as']\n",
        "v=CountVectorizer(stop_words=stop_words,binary=False)\n",
        "bow=v.fit_transform(docs)\n",
        "vocab=v.get_feature_names()\n",
        "\n",
        "df=pd.DataFrame(bow.toarray(),columns=vocab)\n",
        "print(df)\n",
        "df.to_csv(\"beatles.csv\")\n",
        "print(\"OK\")"
      ],
      "execution_count": 7,
      "outputs": [
        {
          "output_type": "stream",
          "name": "stdout",
          "text": [
            "f= ./beatles/\n",
            "f= ./beatles/LetItBe.txt\n",
            "f= ./beatles/ALLYOUNEEDisLOVE.txt\n",
            "f= ./beatles/Ahardnight.txt\n",
            "f= ./beatles/NowhereMan.txt\n",
            "   agree  all  alone  and  answer  be  ...  worth  x2  yeah  yee  you  your\n",
            "0      1    0      0    3       4  41  ...      0   0     5    0    0     0\n",
            "1      0   10      0    0       0   7  ...      0   2     4    1   23     0\n",
            "2      0    7      2    4       0   5  ...      1   0     2    0   19     0\n",
            "3      0    6      0    2       0   1  ...      0   0     0    0    8     3\n",
            "\n",
            "[4 rows x 179 columns]\n",
            "OK\n"
          ]
        }
      ]
    }
  ]
}